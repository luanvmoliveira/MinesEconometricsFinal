{
 "cells": [
  {
   "cell_type": "code",
   "execution_count": 1,
   "metadata": {},
   "outputs": [],
   "source": [
    "import pandas as pd"
   ]
  },
  {
   "cell_type": "markdown",
   "metadata": {},
   "source": [
    "# Exploring"
   ]
  },
  {
   "cell_type": "code",
   "execution_count": 2,
   "metadata": {
    "scrolled": true
   },
   "outputs": [],
   "source": [
    "df_energy = pd.read_csv(\"Data/EnergyProduction.csv\", header = 0)"
   ]
  },
  {
   "cell_type": "code",
   "execution_count": 3,
   "metadata": {},
   "outputs": [],
   "source": [
    "def convert_float(string): #problème aperçu quand en train de filtrer pour les renouvelables - il y a d'ans où on a aucune information\n",
    "    if string == \"Not Available\":\n",
    "        return(0)\n",
    "    else:\n",
    "        return(float(string))"
   ]
  },
  {
   "cell_type": "code",
   "execution_count": 4,
   "metadata": {},
   "outputs": [],
   "source": [
    "df_energy['Year'] = df_energy['YYYYMM'].apply(lambda x: int(str(x)[:4]))\n",
    "df_energy['Month'] = df_energy['YYYYMM'].apply(lambda x: int(str(x)[4:6]))\n",
    "df_energy['Value'] = df_energy['Value'].apply(lambda x: convert_float(x))"
   ]
  },
  {
   "cell_type": "code",
   "execution_count": 5,
   "metadata": {},
   "outputs": [
    {
     "data": {
      "text/html": [
       "<div>\n",
       "<style scoped>\n",
       "    .dataframe tbody tr th:only-of-type {\n",
       "        vertical-align: middle;\n",
       "    }\n",
       "\n",
       "    .dataframe tbody tr th {\n",
       "        vertical-align: top;\n",
       "    }\n",
       "\n",
       "    .dataframe thead th {\n",
       "        text-align: right;\n",
       "    }\n",
       "</style>\n",
       "<table border=\"1\" class=\"dataframe\">\n",
       "  <thead>\n",
       "    <tr style=\"text-align: right;\">\n",
       "      <th></th>\n",
       "      <th>MSN</th>\n",
       "      <th>YYYYMM</th>\n",
       "      <th>Value</th>\n",
       "      <th>Column_Order</th>\n",
       "      <th>Description</th>\n",
       "      <th>Unit</th>\n",
       "      <th>Year</th>\n",
       "      <th>Month</th>\n",
       "    </tr>\n",
       "  </thead>\n",
       "  <tbody>\n",
       "    <tr>\n",
       "      <th>3422</th>\n",
       "      <td>HPETPUS</td>\n",
       "      <td>198212</td>\n",
       "      <td>0.000</td>\n",
       "      <td>6</td>\n",
       "      <td>Electricity Net Generation From Hydroelectric ...</td>\n",
       "      <td>Million Kilowatthours</td>\n",
       "      <td>1982</td>\n",
       "      <td>12</td>\n",
       "    </tr>\n",
       "    <tr>\n",
       "      <th>7911</th>\n",
       "      <td>ELETPUS</td>\n",
       "      <td>197601</td>\n",
       "      <td>178608.612</td>\n",
       "      <td>13</td>\n",
       "      <td>Electricity Net Generation Total (including fr...</td>\n",
       "      <td>Million Kilowatthours</td>\n",
       "      <td>1976</td>\n",
       "      <td>1</td>\n",
       "    </tr>\n",
       "    <tr>\n",
       "      <th>1749</th>\n",
       "      <td>NGETPUS</td>\n",
       "      <td>200502</td>\n",
       "      <td>44912.617</td>\n",
       "      <td>3</td>\n",
       "      <td>Electricity Net Generation From Natural Gas, A...</td>\n",
       "      <td>Million Kilowatthours</td>\n",
       "      <td>2005</td>\n",
       "      <td>2</td>\n",
       "    </tr>\n",
       "    <tr>\n",
       "      <th>4237</th>\n",
       "      <td>HVETPUS</td>\n",
       "      <td>199504</td>\n",
       "      <td>24574.056</td>\n",
       "      <td>7</td>\n",
       "      <td>Electricity Net Generation From Conventional H...</td>\n",
       "      <td>Million Kilowatthours</td>\n",
       "      <td>1995</td>\n",
       "      <td>4</td>\n",
       "    </tr>\n",
       "  </tbody>\n",
       "</table>\n",
       "</div>"
      ],
      "text/plain": [
       "          MSN  YYYYMM       Value  Column_Order  \\\n",
       "3422  HPETPUS  198212       0.000             6   \n",
       "7911  ELETPUS  197601  178608.612            13   \n",
       "1749  NGETPUS  200502   44912.617             3   \n",
       "4237  HVETPUS  199504   24574.056             7   \n",
       "\n",
       "                                            Description  \\\n",
       "3422  Electricity Net Generation From Hydroelectric ...   \n",
       "7911  Electricity Net Generation Total (including fr...   \n",
       "1749  Electricity Net Generation From Natural Gas, A...   \n",
       "4237  Electricity Net Generation From Conventional H...   \n",
       "\n",
       "                       Unit  Year  Month  \n",
       "3422  Million Kilowatthours  1982     12  \n",
       "7911  Million Kilowatthours  1976      1  \n",
       "1749  Million Kilowatthours  2005      2  \n",
       "4237  Million Kilowatthours  1995      4  "
      ]
     },
     "execution_count": 5,
     "metadata": {},
     "output_type": "execute_result"
    }
   ],
   "source": [
    "df_energy.sample(4) #il y a des valeurs négatifs pour value parfois"
   ]
  },
  {
   "cell_type": "code",
   "execution_count": 6,
   "metadata": {
    "scrolled": true
   },
   "outputs": [
    {
     "name": "stdout",
     "output_type": "stream",
     "text": [
      "Types of energy and Column_Order index \n",
      "\n",
      " Coal = nan\n",
      " Petroleum = 2.0\n",
      " Natural Gas = 3.0\n",
      " Other Gases = 4.0\n",
      " Nuclear Electric Power = 5.0\n",
      " Hydroelectric Pumped Storage = 6.0\n",
      " Conventional Hydroelectric Power = 7.0\n",
      " Wood = 8.0\n",
      " Waste = 9.0\n",
      " Geothermal = 10.0\n",
      " Solar = 11.0\n",
      " Wind = 12.0\n",
      "l (including from sources not shown) = 13.0\n"
     ]
    }
   ],
   "source": [
    "print('Types of energy and Column_Order index \\n')\n",
    "for energy in df_energy['Description'].unique():\n",
    "        name = energy.split(',')[0][31:]\n",
    "        number = df_energy.where(df_energy['Description']==energy)['Column_Order'].unique()[1]\n",
    "        print(f'{name} = {number}')"
   ]
  },
  {
   "cell_type": "markdown",
   "metadata": {},
   "source": [
    "# Data treatment Coal, Wind, Solar and Natural Gas"
   ]
  },
  {
   "cell_type": "code",
   "execution_count": 7,
   "metadata": {},
   "outputs": [],
   "source": [
    "energy_index = {'coal':1,'gas':3, 'solar':11, 'wind':12}\n",
    "\n",
    "def regression(annual_value,year):\n",
    "    return(annual_value/12)\n",
    "\n",
    "def df_to_annual(df):\n",
    "    df = df.where(df['Month']==13).dropna()\n",
    "    df.drop(['YYYYMM'], axis = 1, inplace = True)\n",
    "    return(df)\n",
    "\n",
    "def df_to_month(df):\n",
    "    for year in range(1949,1973,1):\n",
    "        for month in range(1,13,1):\n",
    "            i = (year - 1949)*12 + month - 1\n",
    "            if month<10:\n",
    "                yyyymm = int(str(year) + '0' + str(month))\n",
    "            else:\n",
    "                yyyymm = int(str(year) + str(month))\n",
    "            value = df.loc[df['Year']==year]['Value'].values[0]\n",
    "            new_row = pd.DataFrame({'YYYYMM': yyyymm, 'Year': year, 'Month': month, 'Value': regression(value,year)}, index = [i])\n",
    "            df = df.append(new_row, ignore_index = False)\n",
    "    return(df)\n",
    "\n",
    "for energy in energy_index:\n",
    "    df = df_energy.where(df_energy['Column_Order'] == energy_index[energy]).dropna()\n",
    "    df.drop(['Column_Order','Description','MSN'], axis = 1, inplace = True)\n",
    "    df_annual = df_to_annual(df)\n",
    "    df_month = df_to_month(df)\n",
    "    file_annual = 'treated_data/' + energy + '_treated.csv'\n",
    "    file_month = 'treated_data/' + energy + 'monthly_treated.csv'\n",
    "    df_annual.to_csv(file_annual, sep=';', index=True)\n",
    "    df_month.to_csv(file_month, sep=';', index=True)"
   ]
  },
  {
   "cell_type": "markdown",
   "metadata": {},
   "source": [
    "# Renewable production"
   ]
  },
  {
   "cell_type": "code",
   "execution_count": 8,
   "metadata": {},
   "outputs": [],
   "source": [
    "df_renewable = df_energy.where((df_energy['Column_Order']>=8) &(df_energy['Column_Order']<=12)).dropna()\n",
    "df_renewable['Year'] = df_renewable['YYYYMM'].apply(lambda x: int(str(x)[:4]))\n",
    "df_renewable['Month'] = df_renewable['YYYYMM'].apply(lambda x: int(str(x)[4:6]))\n",
    "df_renewable['Value'] = df_energy['Value'].apply(lambda x: convert_float(x))\n",
    "df_renewable.drop(['Column_Order','Description','Unit','MSN'], axis = 1, inplace = True)"
   ]
  },
  {
   "cell_type": "code",
   "execution_count": 9,
   "metadata": {},
   "outputs": [],
   "source": [
    "df_renewable_annual_ = df_renewable.where(df_renewable['Month']==13).dropna()\n",
    "df_renewable_annual_.drop(['Month'], axis = 1, inplace = True)"
   ]
  },
  {
   "cell_type": "code",
   "execution_count": 10,
   "metadata": {},
   "outputs": [],
   "source": [
    "df_renewable_annual = df_renewable_annual_.groupby('Year').sum()"
   ]
  },
  {
   "cell_type": "code",
   "execution_count": 11,
   "metadata": {},
   "outputs": [],
   "source": [
    "df_renewable_month__ = df_renewable.where(df_renewable['Month']!=13).dropna()\n",
    "df_tool = df_renewable_month__.groupby(['Year','Month']).sum()\n",
    "df_renewable_month = pd.DataFrame()\n",
    "\n",
    "def regression(annual_value,year):\n",
    "    return(annual_value/12)\n",
    "\n",
    "#Construction du DataFrame\n",
    "for year in range(1949,1973,1):\n",
    "    for month in range(1,13,1):\n",
    "        index = (year - 1949)*12 + month - 1\n",
    "        if month<10:\n",
    "            yyyymm = int(str(year) + '0' + str(month))\n",
    "        else:\n",
    "            yyyymm = int(str(year) + str(month))\n",
    "        value = df_renewable.loc[df_renewable['Year']==year]['Value'].values[0]\n",
    "        new_row = pd.DataFrame({'YYYYMM': yyyymm, 'Year': year, 'Month': month, 'Value': regression(value,year)}, index=[index])\n",
    "        #print(new_row)\n",
    "        df_renewable_month=df_renewable_month.append(new_row, ignore_index = False)\n",
    "        \n",
    "for i in range(len(df_tool)): # ici on utilise le range normal, 0 -> 2021-1973, puisque les ans presents dans df_renewable_month sont les indexes\n",
    "        year = df_tool.iloc[i].name[0]\n",
    "        month = df_tool.iloc[i].name[1]\n",
    "        index = (year - 1949)*12 + month\n",
    "        if month<10:\n",
    "            yyyymm = int(str(year)[:-2] + '0' + str(month)[:-2]) #[:-2] pour 1973.0 -> 1973\n",
    "        else:\n",
    "            yyyymm = int(str(year)[:-2] + str(month)[:-2])\n",
    "        value = df_tool.iloc[i]['Value']\n",
    "        new_row = pd.DataFrame({'YYYYMM': yyyymm, 'Year': year, 'Month': month, 'Value': value}, index=[index])\n",
    "        df_renewable_month=df_renewable_month.append(new_row, ignore_index = False)"
   ]
  }
 ],
 "metadata": {
  "kernelspec": {
   "display_name": "Python 3",
   "language": "python",
   "name": "python3"
  },
  "language_info": {
   "codemirror_mode": {
    "name": "ipython",
    "version": 3
   },
   "file_extension": ".py",
   "mimetype": "text/x-python",
   "name": "python",
   "nbconvert_exporter": "python",
   "pygments_lexer": "ipython3",
   "version": "3.8.3"
  }
 },
 "nbformat": 4,
 "nbformat_minor": 5
}
