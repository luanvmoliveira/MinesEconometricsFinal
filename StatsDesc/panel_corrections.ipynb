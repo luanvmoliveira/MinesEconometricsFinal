{
 "cells": [
  {
   "cell_type": "code",
   "execution_count": 38,
   "id": "9beaaadd-bd47-42d8-929b-026db1d016ef",
   "metadata": {},
   "outputs": [],
   "source": [
    "import pandas as pd"
   ]
  },
  {
   "cell_type": "code",
   "execution_count": 51,
   "id": "c61211c0-6bca-4e96-8d87-003bb5822e1e",
   "metadata": {},
   "outputs": [],
   "source": [
    "df_panel = pd.read_excel('treated_data/Panel/panel_final.xlsx').drop('Unnamed: 0', axis = 1)"
   ]
  },
  {
   "cell_type": "markdown",
   "id": "35446da5-e5eb-4aef-b241-db5a06728934",
   "metadata": {},
   "source": [
    "# Noms Colonnes"
   ]
  },
  {
   "cell_type": "code",
   "execution_count": 6,
   "id": "42800e66-d064-44fb-b3ac-4413b2f0ab62",
   "metadata": {},
   "outputs": [],
   "source": [
    "def to_GWh(x):\n",
    "    try:\n",
    "        return(float(x)/1000)\n",
    "    except:\n",
    "        return(0)"
   ]
  },
  {
   "cell_type": "code",
   "execution_count": 54,
   "id": "c5b60e88-b07c-4888-8d24-d38dffa9e56a",
   "metadata": {},
   "outputs": [],
   "source": [
    "df_panel['Production_GWh'] = df_panel['Production(GWh)']\n",
    "df_panel['Demand_GWh'] = df_panel['Demand'].apply(lambda x: to_GWh(x))\n",
    "df_panel['Wind_Production_GWh'] = df_panel['Wind_Production'].apply(lambda x: to_GWh(x))\n",
    "df_panel['Solar_Production_GWh'] = df_panel['Solar_Production'].apply(lambda x: to_GWh(x))"
   ]
  },
  {
   "cell_type": "code",
   "execution_count": 55,
   "id": "ce1ac8bb-8f25-4074-95e4-4cf67de9dd0d",
   "metadata": {},
   "outputs": [
    {
     "data": {
      "text/html": [
       "<div>\n",
       "<style scoped>\n",
       "    .dataframe tbody tr th:only-of-type {\n",
       "        vertical-align: middle;\n",
       "    }\n",
       "\n",
       "    .dataframe tbody tr th {\n",
       "        vertical-align: top;\n",
       "    }\n",
       "\n",
       "    .dataframe thead th {\n",
       "        text-align: right;\n",
       "    }\n",
       "</style>\n",
       "<table border=\"1\" class=\"dataframe\">\n",
       "  <thead>\n",
       "    <tr style=\"text-align: right;\">\n",
       "      <th></th>\n",
       "      <th>Year</th>\n",
       "      <th>Month</th>\n",
       "      <th>Plant_Id</th>\n",
       "      <th>State</th>\n",
       "      <th>Mover_Code</th>\n",
       "      <th>Fuel_Code</th>\n",
       "      <th>Production(GWh)</th>\n",
       "      <th>Demand</th>\n",
       "      <th>Wind_Production</th>\n",
       "      <th>Solar_Production</th>\n",
       "      <th>Coal_prices</th>\n",
       "      <th>Gas_prices</th>\n",
       "      <th>CO2_prices</th>\n",
       "      <th>Production_GWh</th>\n",
       "      <th>Demand_GWh</th>\n",
       "      <th>Wind_Production_GWh</th>\n",
       "      <th>Solar_Production_GWh</th>\n",
       "    </tr>\n",
       "  </thead>\n",
       "  <tbody>\n",
       "    <tr>\n",
       "      <th>104525</th>\n",
       "      <td>2014</td>\n",
       "      <td>10</td>\n",
       "      <td>54087</td>\n",
       "      <td>SC</td>\n",
       "      <td>ST</td>\n",
       "      <td>BIT</td>\n",
       "      <td>2138.712</td>\n",
       "      <td>3.143514e+08</td>\n",
       "      <td>0.000</td>\n",
       "      <td>519.829</td>\n",
       "      <td>44.26</td>\n",
       "      <td>4.5416</td>\n",
       "      <td>0.0</td>\n",
       "      <td>2138.712</td>\n",
       "      <td>314351.382487</td>\n",
       "      <td>0.000000</td>\n",
       "      <td>0.519829</td>\n",
       "    </tr>\n",
       "    <tr>\n",
       "      <th>30082</th>\n",
       "      <td>2016</td>\n",
       "      <td>12</td>\n",
       "      <td>56456</td>\n",
       "      <td>AR</td>\n",
       "      <td>ST</td>\n",
       "      <td>SUB</td>\n",
       "      <td>453041.820</td>\n",
       "      <td>3.453170e+08</td>\n",
       "      <td>0.000</td>\n",
       "      <td>2371.976</td>\n",
       "      <td>39.65</td>\n",
       "      <td>4.1705</td>\n",
       "      <td>0.0</td>\n",
       "      <td>453041.820</td>\n",
       "      <td>345317.028605</td>\n",
       "      <td>0.000000</td>\n",
       "      <td>2.371976</td>\n",
       "    </tr>\n",
       "    <tr>\n",
       "      <th>74752</th>\n",
       "      <td>2019</td>\n",
       "      <td>10</td>\n",
       "      <td>10208</td>\n",
       "      <td>MI</td>\n",
       "      <td>ST</td>\n",
       "      <td>BIT</td>\n",
       "      <td>0.000</td>\n",
       "      <td>3.203519e+08</td>\n",
       "      <td>521111.827</td>\n",
       "      <td>10548.634</td>\n",
       "      <td>37.03</td>\n",
       "      <td>2.9773</td>\n",
       "      <td>0.0</td>\n",
       "      <td>0.000</td>\n",
       "      <td>320351.884837</td>\n",
       "      <td>521.111827</td>\n",
       "      <td>10.548634</td>\n",
       "    </tr>\n",
       "    <tr>\n",
       "      <th>45134</th>\n",
       "      <td>2011</td>\n",
       "      <td>9</td>\n",
       "      <td>3399</td>\n",
       "      <td>TN</td>\n",
       "      <td>ST</td>\n",
       "      <td>BIT</td>\n",
       "      <td>1443068.500</td>\n",
       "      <td>3.379313e+08</td>\n",
       "      <td>2610.000</td>\n",
       "      <td>0.000</td>\n",
       "      <td>46.14</td>\n",
       "      <td>4.3944</td>\n",
       "      <td>0.0</td>\n",
       "      <td>1443068.500</td>\n",
       "      <td>337931.317945</td>\n",
       "      <td>2.610000</td>\n",
       "      <td>0.000000</td>\n",
       "    </tr>\n",
       "    <tr>\n",
       "      <th>22512</th>\n",
       "      <td>2016</td>\n",
       "      <td>2</td>\n",
       "      <td>6761</td>\n",
       "      <td>CO</td>\n",
       "      <td>ST</td>\n",
       "      <td>SUB</td>\n",
       "      <td>137178.800</td>\n",
       "      <td>3.136489e+08</td>\n",
       "      <td>1001070.096</td>\n",
       "      <td>26930.533</td>\n",
       "      <td>42.32</td>\n",
       "      <td>2.2540</td>\n",
       "      <td>0.0</td>\n",
       "      <td>137178.800</td>\n",
       "      <td>313648.910986</td>\n",
       "      <td>1001.070096</td>\n",
       "      <td>26.930533</td>\n",
       "    </tr>\n",
       "  </tbody>\n",
       "</table>\n",
       "</div>"
      ],
      "text/plain": [
       "        Year  Month  Plant_Id State Mover_Code Fuel_Code  Production(GWh)  \\\n",
       "104525  2014     10     54087    SC         ST       BIT         2138.712   \n",
       "30082   2016     12     56456    AR         ST       SUB       453041.820   \n",
       "74752   2019     10     10208    MI         ST       BIT            0.000   \n",
       "45134   2011      9      3399    TN         ST       BIT      1443068.500   \n",
       "22512   2016      2      6761    CO         ST       SUB       137178.800   \n",
       "\n",
       "              Demand  Wind_Production  Solar_Production  Coal_prices  \\\n",
       "104525  3.143514e+08            0.000           519.829        44.26   \n",
       "30082   3.453170e+08            0.000          2371.976        39.65   \n",
       "74752   3.203519e+08       521111.827         10548.634        37.03   \n",
       "45134   3.379313e+08         2610.000             0.000        46.14   \n",
       "22512   3.136489e+08      1001070.096         26930.533        42.32   \n",
       "\n",
       "        Gas_prices  CO2_prices  Production_GWh     Demand_GWh  \\\n",
       "104525      4.5416         0.0        2138.712  314351.382487   \n",
       "30082       4.1705         0.0      453041.820  345317.028605   \n",
       "74752       2.9773         0.0           0.000  320351.884837   \n",
       "45134       4.3944         0.0     1443068.500  337931.317945   \n",
       "22512       2.2540         0.0      137178.800  313648.910986   \n",
       "\n",
       "        Wind_Production_GWh  Solar_Production_GWh  \n",
       "104525             0.000000              0.519829  \n",
       "30082              0.000000              2.371976  \n",
       "74752            521.111827             10.548634  \n",
       "45134              2.610000              0.000000  \n",
       "22512           1001.070096             26.930533  "
      ]
     },
     "execution_count": 55,
     "metadata": {},
     "output_type": "execute_result"
    }
   ],
   "source": [
    "df_panel.sample(5)"
   ]
  },
  {
   "cell_type": "code",
   "execution_count": 56,
   "id": "09148317-38ad-4161-ab52-253c19ec06e9",
   "metadata": {},
   "outputs": [],
   "source": [
    "df_panel_new = df_panel.drop(['Production(GWh)','Demand','Wind_Production','Solar_Production'],axis = 1)"
   ]
  },
  {
   "cell_type": "code",
   "execution_count": 58,
   "id": "d2b4d4bc-c972-4589-9314-3df9659b2674",
   "metadata": {},
   "outputs": [],
   "source": [
    "df_panel_new.to_excel('treated_data/Panel/panel_final.xlsx')"
   ]
  },
  {
   "cell_type": "code",
   "execution_count": 59,
   "id": "84ecf3b6-5d71-4ae3-b760-a8eedc35447f",
   "metadata": {},
   "outputs": [],
   "source": [
    "df_panel = pd.read_excel('treated_data/Panel/panel_final.xlsx').drop('Unnamed: 0',axis = 1)"
   ]
  },
  {
   "cell_type": "code",
   "execution_count": 60,
   "id": "a8324aa2-4575-4962-a76c-72b0c41f8c18",
   "metadata": {},
   "outputs": [
    {
     "data": {
      "text/plain": [
       "array([2021, 2010, 2017, 2016, 2020, 2011, 2013, 2012, 2019, 2015, 2009,\n",
       "       2008, 2014, 2018])"
      ]
     },
     "execution_count": 60,
     "metadata": {},
     "output_type": "execute_result"
    }
   ],
   "source": [
    "df_panel.Year.unique()"
   ]
  },
  {
   "cell_type": "code",
   "execution_count": null,
   "id": "82f700be-f5c0-4383-b634-e27e1f9b14d4",
   "metadata": {},
   "outputs": [],
   "source": []
  }
 ],
 "metadata": {
  "kernelspec": {
   "display_name": "Python 3",
   "language": "python",
   "name": "python3"
  },
  "language_info": {
   "codemirror_mode": {
    "name": "ipython",
    "version": 3
   },
   "file_extension": ".py",
   "mimetype": "text/x-python",
   "name": "python",
   "nbconvert_exporter": "python",
   "pygments_lexer": "ipython3",
   "version": "3.8.8"
  }
 },
 "nbformat": 4,
 "nbformat_minor": 5
}
