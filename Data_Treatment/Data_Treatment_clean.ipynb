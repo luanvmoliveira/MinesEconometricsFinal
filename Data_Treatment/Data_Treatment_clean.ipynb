{
 "cells": [
  {
   "cell_type": "code",
   "execution_count": 2,
   "id": "db866b9b",
   "metadata": {},
   "outputs": [],
   "source": [
    "#pip install simpledbf "
   ]
  },
  {
   "cell_type": "code",
   "execution_count": 195,
   "id": "d81d6f4c",
   "metadata": {},
   "outputs": [],
   "source": [
    "import pandas as pd\n",
    "import os\n",
    "import simpledbf\n",
    "from simpledbf import Dbf5"
   ]
  },
  {
   "cell_type": "code",
   "execution_count": 10,
   "id": "8d90afda-bc89-4143-915c-7e7bf3f5658f",
   "metadata": {},
   "outputs": [],
   "source": [
    "%run variables_functions.ipynb"
   ]
  },
  {
   "cell_type": "markdown",
   "id": "ecc07654",
   "metadata": {},
   "source": [
    "# Data treatment Production\n",
    "### Coal, Wind, Solar and Natural Gas"
   ]
  },
  {
   "cell_type": "code",
   "execution_count": 2,
   "id": "29e33e90",
   "metadata": {},
   "outputs": [],
   "source": [
    "df_energy = pd.read_csv(\"Data/EnergyProduction.csv\", header = 0)\n",
    "\n",
    "def convert_float(string): #problème aperçu quand en train de filtrer pour les renouvelables - il y a d'ans où on a aucune information\n",
    "    if string == \"Not Available\":\n",
    "        return(0)\n",
    "    else:\n",
    "        return(float(string))\n",
    "    \n",
    "df_energy['Year'] = df_energy['YYYYMM'].apply(lambda x: int(str(x)[:4]))\n",
    "df_energy['Month'] = df_energy['YYYYMM'].apply(lambda x: int(str(x)[4:6]))\n",
    "df_energy['Production (MWh)'] = df_energy['Value'].apply(lambda x: convert_float(x)/1000)\n",
    "df_energy.drop(['Value'], axis = 1, inplace = True)"
   ]
  },
  {
   "cell_type": "code",
   "execution_count": 3,
   "id": "f0d6a4c8",
   "metadata": {},
   "outputs": [],
   "source": [
    "# Data treatment Coal, Wind, Solar and Natural Gas\n",
    "\n",
    "energy_index = {'coal':1,'gas':3, 'solar':11, 'wind':12}\n",
    "\n",
    "def regression(annual_value,year):\n",
    "    return(annual_value/12)\n",
    "\n",
    "def df_to_annual(df):\n",
    "    df = df.where(df['Month']==13).dropna()\n",
    "    df.drop(['YYYYMM'], axis = 1, inplace = True)\n",
    "    return(df)\n",
    "\n",
    "def df_to_month(df):\n",
    "    for year in range(1949,1973,1):\n",
    "        for month in range(1,13,1):\n",
    "            i = (year - 1949)*12 + month - 1\n",
    "            if month<10:\n",
    "                yyyymm = int(str(year) + '0' + str(month))\n",
    "            else:\n",
    "                yyyymm = int(str(year) + str(month))\n",
    "            value = df.loc[df['Year']==year]['Production (MWh)'].values[0]\n",
    "            new_row = pd.DataFrame({'YYYYMM': yyyymm, 'Year': year, 'Month': month, 'Production (MWh)': regression(value,year)}, index = [i])\n",
    "            df = df.append(new_row, ignore_index = False)\n",
    "    return(df)\n",
    "\n",
    "for energy in energy_index:\n",
    "    df = df_energy.where(df_energy['Column_Order'] == energy_index[energy]).dropna()\n",
    "    df.drop(['Column_Order','Description','MSN'], axis = 1, inplace = True)\n",
    "    df_annual = df_to_annual(df)\n",
    "    df_tool = df_to_month(df)\n",
    "    df_month = df_tool.where(df_tool['Month']!=13).dropna()\n",
    "    file_annual = 'treated_data/' + energy + '_treated.csv'\n",
    "    file_month = 'treated_data/' + energy + '_month_treated.csv'\n",
    "    df_annual.to_csv(file_annual, sep=';', index=True)\n",
    "    df_month.to_csv(file_month, sep=';', index=True)"
   ]
  },
  {
   "cell_type": "markdown",
   "id": "fc0b43d7",
   "metadata": {},
   "source": [
    "\n",
    "# Data treatment Capacity"
   ]
  },
  {
   "cell_type": "markdown",
   "id": "3e9e8a28",
   "metadata": {},
   "source": [
    "### Lecture automatisé de chaque année"
   ]
  },
  {
   "cell_type": "markdown",
   "id": "10def4e1",
   "metadata": {},
   "source": [
    "##### Création d'un fonction pour traîter le type de fichier 2001-2003\n",
    "Il a plusieurs en-tetes (headers) et quelques lignes de \"NAMEPLATE\" ne sont pas en format float"
   ]
  },
  {
   "cell_type": "code",
   "execution_count": 4,
   "id": "bd2b042c",
   "metadata": {
    "scrolled": true
   },
   "outputs": [
    {
     "name": "stderr",
     "output_type": "stream",
     "text": [
      "/opt/anaconda3/lib/python3.8/site-packages/IPython/core/interactiveshell.py:3165: DtypeWarning: Columns (0,1,5,6,7,22,23,24,25,26) have mixed types.Specify dtype option on import or set low_memory=False.\n",
      "  has_raised = await self.run_ast_nodes(code_ast.body, cell_name,\n",
      "/opt/anaconda3/lib/python3.8/site-packages/IPython/core/interactiveshell.py:3165: DtypeWarning: Columns (0,1,5,6,7,17,22,23,24,25,26) have mixed types.Specify dtype option on import or set low_memory=False.\n",
      "  has_raised = await self.run_ast_nodes(code_ast.body, cell_name,\n"
     ]
    }
   ],
   "source": [
    "energies = ['Onshore Wind Turbine','Natural Gas Steam Turbine', 'Conventional Steam Coal', 'Solar Photovoltaic']\n",
    "\n",
    "df_capacity = pd.DataFrame()\n",
    "\n",
    "for year in year_infos:\n",
    "    path, energy_source, capacity = year_infos[year][0],year_infos[year][1], year_infos[year][2]\n",
    "\n",
    "    if year <=2003:\n",
    "        df_tool = pd.read_csv(path,header = 0)\n",
    "        df_year_raw = delete_other_headers(df_tool)\n",
    "\n",
    "    elif year<=2010:\n",
    "        df_year_raw = pd.read_excel(path,header = 0)\n",
    "    \n",
    "    else: \n",
    "        df_year_raw = pd.read_excel(path,header = 1)\n",
    "    \n",
    "    df_year = df_year_raw.groupby(energy_source, as_index = True).sum()[capacity]\n",
    "    \n",
    "    for i in range(len(df_year)):\n",
    "        code = df_year.index[i]\n",
    "        if code in codes:\n",
    "            value = df_year[i]\n",
    "            new_row = pd.DataFrame({'Year': year,'Energy Source': code, 'Capacity (KW)': value}, index = [i])\n",
    "            df_capacity = df_capacity.append(new_row, ignore_index = False)"
   ]
  },
  {
   "cell_type": "markdown",
   "id": "441143c2",
   "metadata": {},
   "source": [
    "#### Column \"Technology\""
   ]
  },
  {
   "cell_type": "code",
   "execution_count": 5,
   "id": "7711bde3",
   "metadata": {},
   "outputs": [],
   "source": [
    "df_capacity['Technology'] = df_capacity['Energy Source'].apply(lambda x: codes_technologies[x])"
   ]
  },
  {
   "cell_type": "markdown",
   "id": "4e3cb98f",
   "metadata": {},
   "source": [
    "#### Création d'un csv sans l'especification du type d'energie"
   ]
  },
  {
   "cell_type": "code",
   "execution_count": 6,
   "id": "6e7b1854",
   "metadata": {},
   "outputs": [],
   "source": [
    "df_tool = df_capacity.groupby(['Year','Technology']).sum()\n",
    "df_capacity_general = pd.DataFrame()\n",
    "\n",
    "for i in range(len(df_tool)): # ici on utilise le range normal, 0 -> 2021-1973, puisque les ans presents dans df_renewable_month sont les indexes\n",
    "        year = df_tool.iloc[i].name[0]\n",
    "        technology = df_tool.iloc[i].name[1]\n",
    "        capacity = df_tool.iloc[i]['Capacity (KW)']\n",
    "        new_row = pd.DataFrame({'Year': year, 'Technology': technology, 'Capacity (KW)': capacity}, index = [i])\n",
    "        df_capacity_general=df_capacity_general.append(new_row, ignore_index = False)"
   ]
  },
  {
   "cell_type": "markdown",
   "id": "13454d88",
   "metadata": {},
   "source": [
    "#### Saving to csv"
   ]
  },
  {
   "cell_type": "code",
   "execution_count": 7,
   "id": "d54c5b50",
   "metadata": {},
   "outputs": [],
   "source": [
    "df_capacity.to_csv('treated_data/capacity.csv', sep=';', index=True)\n",
    "df_capacity_general.to_csv('treated_data/capacity_general.csv')"
   ]
  },
  {
   "cell_type": "code",
   "execution_count": 8,
   "id": "a221fae8-e23d-4107-96ac-4040814c496e",
   "metadata": {},
   "outputs": [],
   "source": [
    "df_capacity = pd.read_csv('treated_data/Capacity/capacity.csv',sep=';').drop('Unnamed: 0', axis=1)"
   ]
  },
  {
   "cell_type": "markdown",
   "id": "3f5ddcfd-5377-4595-8dd9-2dccede25800",
   "metadata": {},
   "source": [
    "# Merge Production & Capacity on Year \n",
    "#### Il manque encore (1) comprendre quelle est l'unité de capacity (2) capacity factor (je ne peux pas trouver\n",
    "#### quelque chose qui dit la durée max dans les excels."
   ]
  },
  {
   "cell_type": "code",
   "execution_count": 13,
   "id": "948bc52e-fc1e-4d7a-918b-e76738692d21",
   "metadata": {},
   "outputs": [],
   "source": [
    "for energy in energy_infos:\n",
    "    \n",
    "    df_production = pd.read_csv(energy_infos[energy][0],sep = ';').drop('Unnamed: 0', axis=1)\n",
    "    df_production = df_production.where(df_production['Year']>2000).dropna()\n",
    "    \n",
    "    df_capacity = pd.read_csv('treated_data/Capacity/capacity_general.csv').drop('Unnamed: 0', axis=1)\n",
    "    df_capacity = df_capacity.where(df_capacity['Technology']==energy_infos[energy][1]).dropna()\n",
    "    \n",
    "    df_energy = pd.merge (df_production, df_capacity, on= 'Year')\n",
    "    df_energy['Production (GWh)'] = df_energy['Value']\n",
    "    df_energy['Capacity (MW)'] = df_energy['Capacity']\n",
    "    df_energy.drop(['Value','Capacity'], axis = 1, inplace = True)\n",
    "    df_energy['Capacity Factor (%)'] = 100 * (df_energy['Production (GWh)']*1000000)/(df_energy['Capacity (MW)']*365*24)\n",
    "    \n",
    "    path = 'treated_data/Energies/' + energy + '_treated.csv'\n",
    "    df_energy.to_csv(path, sep = ';')"
   ]
  },
  {
   "cell_type": "code",
   "execution_count": null,
   "id": "5d2d957f-5352-4516-8a74-76fda3b132b9",
   "metadata": {},
   "outputs": [],
   "source": []
  }
 ],
 "metadata": {
  "kernelspec": {
   "display_name": "Python 3",
   "language": "python",
   "name": "python3"
  },
  "language_info": {
   "codemirror_mode": {
    "name": "ipython",
    "version": 3
   },
   "file_extension": ".py",
   "mimetype": "text/x-python",
   "name": "python",
   "nbconvert_exporter": "python",
   "pygments_lexer": "ipython3",
   "version": "3.8.8"
  }
 },
 "nbformat": 4,
 "nbformat_minor": 5
}
