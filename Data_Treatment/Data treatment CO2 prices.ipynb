{
 "cells": [
  {
   "cell_type": "code",
   "execution_count": 2,
   "metadata": {},
   "outputs": [],
   "source": [
    "import pandas as pd\n",
    "import matplotlib.pyplot as plt\n",
    "import numpy as np\n",
    "import locale as lc"
   ]
  },
  {
   "cell_type": "code",
   "execution_count": 3,
   "metadata": {},
   "outputs": [
    {
     "name": "stderr",
     "output_type": "stream",
     "text": [
      "/opt/anaconda3/lib/python3.8/site-packages/IPython/core/interactiveshell.py:3071: DtypeWarning: Columns (5,7,16,24,41,43,45,46,47,48,49,59,67,68,69,70,71,72,80,85,98,107,119,121,123,124,125,132,134,136,137,138,145,146,148,150,158,159,161,163,171,172,174,176,184,185,187,189,197,198,200,202,210,211,213,215,223,224,226,228,236,237,239,241,248,272,273,274) have mixed types.Specify dtype option on import or set low_memory=False.\n",
      "  has_raised = await self.run_ast_nodes(code_ast.body, cell_name,\n"
     ]
    }
   ],
   "source": [
    "df = pd.read_csv('data/CO2_price.csv', sep = ';')"
   ]
  },
  {
   "cell_type": "code",
   "execution_count": 4,
   "metadata": {},
   "outputs": [
    {
     "data": {
      "text/html": [
       "<div>\n",
       "<style scoped>\n",
       "    .dataframe tbody tr th:only-of-type {\n",
       "        vertical-align: middle;\n",
       "    }\n",
       "\n",
       "    .dataframe tbody tr th {\n",
       "        vertical-align: top;\n",
       "    }\n",
       "\n",
       "    .dataframe thead th {\n",
       "        text-align: right;\n",
       "    }\n",
       "</style>\n",
       "<table border=\"1\" class=\"dataframe\">\n",
       "  <thead>\n",
       "    <tr style=\"text-align: right;\">\n",
       "      <th></th>\n",
       "      <th>Unnamed: 0</th>\n",
       "      <th>Unnamed: 1</th>\n",
       "      <th>Euro Area</th>\n",
       "      <th>Unnamed: 3</th>\n",
       "      <th>Unnamed: 4</th>\n",
       "      <th>Unnamed: 5</th>\n",
       "      <th>Unnamed: 6</th>\n",
       "      <th>Unnamed: 7</th>\n",
       "      <th>Unnamed: 8</th>\n",
       "      <th>Unnamed: 9</th>\n",
       "      <th>...</th>\n",
       "      <th>Unnamed: 265</th>\n",
       "      <th>Hubei</th>\n",
       "      <th>Unnamed: 267</th>\n",
       "      <th>Unnamed: 268</th>\n",
       "      <th>Chongqing</th>\n",
       "      <th>Unnamed: 270</th>\n",
       "      <th>Unnamed: 271</th>\n",
       "      <th>Fujian</th>\n",
       "      <th>Unnamed: 273</th>\n",
       "      <th>Unnamed: 274</th>\n",
       "    </tr>\n",
       "  </thead>\n",
       "  <tbody>\n",
       "    <tr>\n",
       "      <th>0</th>\n",
       "      <td>NaN</td>\n",
       "      <td>NaN</td>\n",
       "      <td>1</td>\n",
       "      <td>2</td>\n",
       "      <td>3</td>\n",
       "      <td>4</td>\n",
       "      <td>5</td>\n",
       "      <td>6</td>\n",
       "      <td>7.0</td>\n",
       "      <td>8.0</td>\n",
       "      <td>...</td>\n",
       "      <td>NaN</td>\n",
       "      <td>NaN</td>\n",
       "      <td>NaN</td>\n",
       "      <td>NaN</td>\n",
       "      <td>NaN</td>\n",
       "      <td>NaN</td>\n",
       "      <td>NaN</td>\n",
       "      <td>NaN</td>\n",
       "      <td>NaN</td>\n",
       "      <td>NaN</td>\n",
       "    </tr>\n",
       "    <tr>\n",
       "      <th>1</th>\n",
       "      <td>NaN</td>\n",
       "      <td>NaN</td>\n",
       "      <td>European Union</td>\n",
       "      <td>NaN</td>\n",
       "      <td>NaN</td>\n",
       "      <td>NaN</td>\n",
       "      <td>NaN</td>\n",
       "      <td>NaN</td>\n",
       "      <td>NaN</td>\n",
       "      <td>NaN</td>\n",
       "      <td>...</td>\n",
       "      <td>NaN</td>\n",
       "      <td>NaN</td>\n",
       "      <td>NaN</td>\n",
       "      <td>NaN</td>\n",
       "      <td>NaN</td>\n",
       "      <td>NaN</td>\n",
       "      <td>NaN</td>\n",
       "      <td>NaN</td>\n",
       "      <td>NaN</td>\n",
       "      <td>NaN</td>\n",
       "    </tr>\n",
       "    <tr>\n",
       "      <th>2</th>\n",
       "      <td>NaN</td>\n",
       "      <td>NaN</td>\n",
       "      <td>Allowance Price</td>\n",
       "      <td>NaN</td>\n",
       "      <td>NaN</td>\n",
       "      <td>NaN</td>\n",
       "      <td>NaN</td>\n",
       "      <td>Stability Mechanisms</td>\n",
       "      <td>NaN</td>\n",
       "      <td>NaN</td>\n",
       "      <td>...</td>\n",
       "      <td>NaN</td>\n",
       "      <td>Hubei</td>\n",
       "      <td>NaN</td>\n",
       "      <td>NaN</td>\n",
       "      <td>Chongqing</td>\n",
       "      <td>NaN</td>\n",
       "      <td>NaN</td>\n",
       "      <td>Fujian</td>\n",
       "      <td>NaN</td>\n",
       "      <td>NaN</td>\n",
       "    </tr>\n",
       "    <tr>\n",
       "      <th>3</th>\n",
       "      <td>Date</td>\n",
       "      <td>Date as Text</td>\n",
       "      <td>Domestic Currency (EUR)</td>\n",
       "      <td>Exchange Rate (USD)</td>\n",
       "      <td>EUR_USD</td>\n",
       "      <td>Exchange Rate (EUR)</td>\n",
       "      <td>EUR_EUR</td>\n",
       "      <td>NaN</td>\n",
       "      <td>NaN</td>\n",
       "      <td>NaN</td>\n",
       "      <td>...</td>\n",
       "      <td>Tianjin_EUR</td>\n",
       "      <td>Domestic Currency (CNY)</td>\n",
       "      <td>Hubei_USD</td>\n",
       "      <td>Hubei_EUR</td>\n",
       "      <td>Domestic Currency (CNY)</td>\n",
       "      <td>Chongqing_USD</td>\n",
       "      <td>Chongqing_EUR</td>\n",
       "      <td>Domestic Currency (CNY)</td>\n",
       "      <td>Fujian_USD</td>\n",
       "      <td>Fujian_EUR</td>\n",
       "    </tr>\n",
       "    <tr>\n",
       "      <th>4</th>\n",
       "      <td>01.01.2005</td>\n",
       "      <td>janv-05</td>\n",
       "      <td>NaN</td>\n",
       "      <td>0,76223662</td>\n",
       "      <td>NaN</td>\n",
       "      <td>1</td>\n",
       "      <td>NaN</td>\n",
       "      <td>NaN</td>\n",
       "      <td>NaN</td>\n",
       "      <td>NaN</td>\n",
       "      <td>...</td>\n",
       "      <td>NaN</td>\n",
       "      <td>NaN</td>\n",
       "      <td>NaN</td>\n",
       "      <td>NaN</td>\n",
       "      <td>NaN</td>\n",
       "      <td>NaN</td>\n",
       "      <td>NaN</td>\n",
       "      <td>NaN</td>\n",
       "      <td>NaN</td>\n",
       "      <td>NaN</td>\n",
       "    </tr>\n",
       "  </tbody>\n",
       "</table>\n",
       "<p>5 rows × 275 columns</p>\n",
       "</div>"
      ],
      "text/plain": [
       "   Unnamed: 0    Unnamed: 1                Euro Area           Unnamed: 3  \\\n",
       "0         NaN           NaN                        1                    2   \n",
       "1         NaN           NaN           European Union                  NaN   \n",
       "2         NaN           NaN          Allowance Price                  NaN   \n",
       "3        Date  Date as Text  Domestic Currency (EUR)  Exchange Rate (USD)   \n",
       "4  01.01.2005       janv-05                      NaN           0,76223662   \n",
       "\n",
       "  Unnamed: 4           Unnamed: 5 Unnamed: 6            Unnamed: 7  \\\n",
       "0          3                    4          5                     6   \n",
       "1        NaN                  NaN        NaN                   NaN   \n",
       "2        NaN                  NaN        NaN  Stability Mechanisms   \n",
       "3    EUR_USD  Exchange Rate (EUR)    EUR_EUR                   NaN   \n",
       "4        NaN                    1        NaN                   NaN   \n",
       "\n",
       "   Unnamed: 8  Unnamed: 9  ...  Unnamed: 265                    Hubei  \\\n",
       "0         7.0         8.0  ...           NaN                      NaN   \n",
       "1         NaN         NaN  ...           NaN                      NaN   \n",
       "2         NaN         NaN  ...           NaN                    Hubei   \n",
       "3         NaN         NaN  ...   Tianjin_EUR  Domestic Currency (CNY)   \n",
       "4         NaN         NaN  ...           NaN                      NaN   \n",
       "\n",
       "   Unnamed: 267  Unnamed: 268                Chongqing   Unnamed: 270  \\\n",
       "0           NaN           NaN                      NaN            NaN   \n",
       "1           NaN           NaN                      NaN            NaN   \n",
       "2           NaN           NaN                Chongqing            NaN   \n",
       "3     Hubei_USD     Hubei_EUR  Domestic Currency (CNY)  Chongqing_USD   \n",
       "4           NaN           NaN                      NaN            NaN   \n",
       "\n",
       "    Unnamed: 271                   Fujian Unnamed: 273 Unnamed: 274  \n",
       "0            NaN                      NaN          NaN          NaN  \n",
       "1            NaN                      NaN          NaN          NaN  \n",
       "2            NaN                   Fujian          NaN          NaN  \n",
       "3  Chongqing_EUR  Domestic Currency (CNY)   Fujian_USD   Fujian_EUR  \n",
       "4            NaN                      NaN          NaN          NaN  \n",
       "\n",
       "[5 rows x 275 columns]"
      ]
     },
     "execution_count": 4,
     "metadata": {},
     "output_type": "execute_result"
    }
   ],
   "source": [
    "df.head()"
   ]
  },
  {
   "cell_type": "code",
   "execution_count": 5,
   "metadata": {},
   "outputs": [],
   "source": [
    "dates = df['Unnamed: 0'][4:].to_numpy()"
   ]
  },
  {
   "cell_type": "code",
   "execution_count": 6,
   "metadata": {},
   "outputs": [
    {
     "data": {
      "text/plain": [
       "array(['01.01.2005', '02.01.2005', '03.01.2005', ..., '28.06.2021',\n",
       "       '29.06.2021', '30.06.2021'], dtype=object)"
      ]
     },
     "execution_count": 6,
     "metadata": {},
     "output_type": "execute_result"
    }
   ],
   "source": [
    "dates"
   ]
  },
  {
   "cell_type": "code",
   "execution_count": 7,
   "metadata": {},
   "outputs": [],
   "source": [
    "california = df['United States'][4:]\n",
    "RGGI = df['United States.1'][4:]"
   ]
  },
  {
   "cell_type": "code",
   "execution_count": 8,
   "metadata": {},
   "outputs": [],
   "source": [
    "def convert_to_float(prices, dates):\n",
    "    new_dates = []\n",
    "    new_prices = []\n",
    "    for i,element in enumerate(prices): \n",
    "        if type(element) == str:\n",
    "            lc.setlocale(lc.LC_ALL, 'nl_NL')\n",
    "            new_prices.append(lc.atof(element))\n",
    "            new_dates.append(dates[i])\n",
    "        #else :\n",
    "         #   new_array[i] = new_array[i-1]\n",
    "    return(np.array(new_prices), np.array(new_dates))\n",
    "            "
   ]
  },
  {
   "cell_type": "code",
   "execution_count": 9,
   "metadata": {},
   "outputs": [],
   "source": [
    "california_co2_prices, california_dates = convert_to_float(california.to_numpy(), dates)\n",
    "RGGI_co2_prices, RGGI_dates = convert_to_float(RGGI.to_numpy(), dates)"
   ]
  },
  {
   "cell_type": "code",
   "execution_count": 10,
   "metadata": {},
   "outputs": [],
   "source": [
    "df_california = pd.DataFrame({'dates' : california_dates,\n",
    "                'C02 prices' : california_co2_prices})\n",
    "\n",
    "df_RGGI = pd.DataFrame({'dates' : RGGI_dates[1:],\n",
    "          'C02 prices' : RGGI_co2_prices[1:]})"
   ]
  },
  {
   "cell_type": "code",
   "execution_count": 36,
   "metadata": {},
   "outputs": [],
   "source": [
    "df_RGGI.to_csv('treated_data/Cost/rggi_co2_prices', sep=';', index = True)\n",
    "df_california.to_csv('treated_data/Cost/california_co2_prices', sep=';', index=True)"
   ]
  },
  {
   "cell_type": "code",
   "execution_count": 30,
   "metadata": {
    "scrolled": true
   },
   "outputs": [
    {
     "data": {
      "text/plain": [
       "[<matplotlib.lines.Line2D at 0x7fe321d63520>]"
      ]
     },
     "execution_count": 30,
     "metadata": {},
     "output_type": "execute_result"
    },
    {
     "data": {
      "image/png": "[encoded data removed]",
      "text/plain": [
       "<Figure size 432x288 with 1 Axes>"
      ]
     },
     "metadata": {
      "needs_background": "light"
     },
     "output_type": "display_data"
    }
   ],
   "source": [
    "plt.suptitle('CO2 prices in California')\n",
    "plt.xlabel('dates')\n",
    "plt.ylabel('CO2 prices in $/ton')\n",
    "plt.plot(california_dates, california_co2_prices)"
   ]
  },
  {
   "cell_type": "code",
   "execution_count": 29,
   "metadata": {},
   "outputs": [
    {
     "data": {
      "text/plain": [
       "[<matplotlib.lines.Line2D at 0x7fe3211589d0>]"
      ]
     },
     "execution_count": 29,
     "metadata": {},
     "output_type": "execute_result"
    },
    {
     "data": {
      "image/png": "[encoded data removed]",
      "text/plain": [
       "<Figure size 432x288 with 1 Axes>"
      ]
     },
     "metadata": {
      "needs_background": "light"
     },
     "output_type": "display_data"
    }
   ],
   "source": [
    "plt.suptitle('CO2 prices RGGI')\n",
    "plt.xlabel('dates')\n",
    "plt.ylabel('CO2 prices in $/ton')\n",
    "plt.plot(RGGI_dates, RGGI_co2_prices)"
   ]
  }
 ],
 "metadata": {
  "kernelspec": {
   "display_name": "Python 3",
   "language": "python",
   "name": "python3"
  },
  "language_info": {
   "codemirror_mode": {
    "name": "ipython",
    "version": 3
   },
   "file_extension": ".py",
   "mimetype": "text/x-python",
   "name": "python",
   "nbconvert_exporter": "python",
   "pygments_lexer": "ipython3",
   "version": "3.8.3"
  }
 },
 "nbformat": 4,
 "nbformat_minor": 4
}
