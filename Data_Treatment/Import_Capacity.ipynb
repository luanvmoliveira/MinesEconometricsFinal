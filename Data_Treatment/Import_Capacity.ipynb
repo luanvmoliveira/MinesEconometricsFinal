{
 "cells": [
  {
   "cell_type": "code",
   "execution_count": 10,
   "id": "683cfd25-15fb-4130-b91c-ca08eac0aa6e",
   "metadata": {},
   "outputs": [],
   "source": [
    "import pandas as pd\n",
    "import os\n",
    "import simpledbf\n",
    "from simpledbf import Dbf5"
   ]
  },
  {
   "cell_type": "code",
   "execution_count": 127,
   "id": "e94fb8f1-1f94-43c3-a4f5-1fb8dda8916a",
   "metadata": {},
   "outputs": [],
   "source": [
    "%run variables_functions.ipynb"
   ]
  },
  {
   "cell_type": "code",
   "execution_count": 12,
   "id": "4c69c5fd-c92d-4625-a52e-f5ee197ac5b8",
   "metadata": {},
   "outputs": [],
   "source": [
    "month_to_number= {'JAN':1,\n",
    "\t\t'FEB':2,\n",
    "\t\t'MAR':3,\n",
    "\t\t'APR':4,\n",
    "\t\t'MAY':5,\n",
    "\t\t'JUN':6,\n",
    "\t\t'JUL':7,\n",
    "\t\t'AUG':8,\n",
    "\t\t'SEP':9,\n",
    "\t\t'OCT':10,\n",
    "\t\t'NOV':11,\n",
    "\t\t'DEC':12}"
   ]
  },
  {
   "cell_type": "code",
   "execution_count": null,
   "id": "3787d8dc-1082-4f0a-9dc9-d6f1bab9734a",
   "metadata": {},
   "outputs": [],
   "source": [
    "def read_unknown_header(path):\n",
    "    header = 0\n",
    "    df_year = pd.read_excel(path, header = header)\n",
    "    while df_year.columns[0][:6] != 'Entity':\n",
    "        header +=1\n",
    "        df_year = pd.read_excel(path, header = header)\n",
    "    return(df_year)\n",
    "\n",
    "\n",
    "df_capacity = pd.DataFrame()\n",
    "for folder in os.listdir('Data/Capacity_Complete/'):\n",
    "    path = 'Data/Capacity_Complete/' + folder\n",
    "    df_year = read_unknown_header(path)\n",
    "    month = month_to_number[folder.split('_')[0][:3].upper()]\n",
    "    year = float(folder.split('.')[0][-4:])\n",
    "    print(year, month)\n",
    "    df_year['Year'] = year\n",
    "    df_year['Month'] = month\n",
    "    df_year.columns = df_year.columns.str.replace('\\n', '')\n",
    "    df_year.columns = df_year.columns.str.replace(' ', '')\n",
    "    df_tool = df_year.rename(columns={'PlantID':'Plant_Id','PlantState':'State','PrimeMoverCode':'Mover_Code',\n",
    "                   'EnergySourceCode':'Source_Code','NetSummerCapacity(MW)':'Capacity_MW'})\n",
    "    df_interest = df_tool[['Year','Month','Plant_Id','State','Mover_Code','Source_Code','Capacity_MW']]\n",
    "    df_capacity = df_capacity.append(df_interest,ignore_index=True,sort=False)"
   ]
  },
  {
   "cell_type": "code",
   "execution_count": 56,
   "id": "7fe43ce6-791a-4fd9-be8f-0f6dd47eebcf",
   "metadata": {},
   "outputs": [],
   "source": [
    "def to_float(x):\n",
    "    try:\n",
    "        return(float(x))\n",
    "    except:\n",
    "        return(0)\n",
    "    \n",
    "\n",
    "df_capacity.Capacity_MW = df_capacity.Capacity_MW.apply(lambda x: to_float(x))\n",
    "\n",
    "df_capacity.to_csv('treated_data/Capacity/capacity_complete.csv',sep=';')"
   ]
  },
  {
   "cell_type": "markdown",
   "id": "c1404cb7-f704-4f6c-9f5e-1f4ec7abe16b",
   "metadata": {},
   "source": [
    "# Capacity Coal Interpolation"
   ]
  },
  {
   "cell_type": "code",
   "execution_count": 147,
   "id": "9a0da413-153f-4439-bb72-c7dd15abf5b0",
   "metadata": {},
   "outputs": [],
   "source": [
    "df_capacity['Technology'] = df_capacity.Source_Code.apply(lambda x: convert_to_technology(x))\n",
    "df_tool = df_capacity.where(df_capacity.Technology=='Coal').dropna()[['Year','Month','Plant_Id','Capacity_MW']]\n",
    "coal_capacity = df_tool.groupby(['Year','Plant_Id','Month']).sum()"
   ]
  },
  {
   "cell_type": "code",
   "execution_count": 212,
   "id": "037cef03-2df6-4a85-8e17-ed17b2298532",
   "metadata": {},
   "outputs": [],
   "source": [
    "time_series = pd.date_range(start='01/2015', end='12/2021', freq = 'M')\n",
    "df_tool_ = pd.Series(range(len(time_series)), index = time_series)\n",
    "df_tool = df_tool_.reset_index()\n",
    "\n",
    "df_time = pd.DataFrame()\n",
    "df_time['Year'] = df_tool['index'].apply(lambda x: x.year)\n",
    "df_time['Month'] = df_tool['index'].apply(lambda x: x.month)\n",
    "\n",
    "df_time_capacity = df_time.where(df_time.Year>2014).dropna()"
   ]
  },
  {
   "cell_type": "code",
   "execution_count": 215,
   "id": "cf6c60c7-5d85-4599-9077-b93c24d6ae3c",
   "metadata": {},
   "outputs": [],
   "source": [
    "df_plants_alltimes = pd.DataFrame()\n",
    "\n",
    "for plant_id in coal_capacity.reset_index().Plant_Id.unique():\n",
    "    df_plant = pd.DataFrame()\n",
    "    df_plant[['Year','Month']] = df_time_capacity[['Year','Month']]\n",
    "    df_plant['Plant_Id'] = plant_id\n",
    "    df_plants_alltimes = df_plants_alltimes.append(df_plant)"
   ]
  },
  {
   "cell_type": "code",
   "execution_count": 217,
   "id": "3b0052a5-2c8f-41e2-82ce-566de8468ea4",
   "metadata": {},
   "outputs": [],
   "source": [
    "df_final = df_plants_alltimes.join(coal_capacity, on = ['Year','Plant_Id','Month'], how='left')"
   ]
  },
  {
   "cell_type": "code",
   "execution_count": 218,
   "id": "d851542c-0cec-46e3-a94c-baf845690ce4",
   "metadata": {},
   "outputs": [
    {
     "name": "stdout",
     "output_type": "stream",
     "text": [
      "df_coal: 24267 alltimes: 39342, result:39342 \n"
     ]
    }
   ],
   "source": [
    "print(f'df_coal: {len(coal_capacity)} alltimes: {len(df_plants_alltimes)}, result:{len(df_final)} ')"
   ]
  },
  {
   "cell_type": "code",
   "execution_count": 220,
   "id": "b9998619-dadf-443a-8d94-10632c37d973",
   "metadata": {},
   "outputs": [],
   "source": [
    "df_interpolated = df_final.interpolate(mehod='linear')"
   ]
  },
  {
   "cell_type": "code",
   "execution_count": 222,
   "id": "bdfdd533-9584-4cb5-b633-8c015ac88a5f",
   "metadata": {},
   "outputs": [
    {
     "name": "stdout",
     "output_type": "stream",
     "text": [
      " antes: 39342 depois: 39336\n"
     ]
    }
   ],
   "source": [
    "print(f' antes: {len(df_interpolated)} depois: {len(df_interpolated.dropna())}')"
   ]
  },
  {
   "cell_type": "code",
   "execution_count": 223,
   "id": "06512eea-7d31-41f3-9460-9104cac0694e",
   "metadata": {},
   "outputs": [],
   "source": [
    "df_interpolated.dropna().to_csv('treated_data/Capacity/capacity_coal_interpolated.csv',sep=';')"
   ]
  },
  {
   "cell_type": "markdown",
   "id": "c2a3e1a5-7902-4dc5-8301-9b1fa0d8677d",
   "metadata": {},
   "source": [
    "# Old Capacity Data"
   ]
  },
  {
   "cell_type": "code",
   "execution_count": 225,
   "id": "2df17730-662a-425e-b74d-d9f8b34f03a8",
   "metadata": {},
   "outputs": [],
   "source": [
    "old_capacity = pd.DataFrame()"
   ]
  },
  {
   "cell_type": "code",
   "execution_count": 268,
   "id": "a545fb14-792f-47aa-bbe6-985b7fc645d0",
   "metadata": {},
   "outputs": [
    {
     "name": "stdout",
     "output_type": "stream",
     "text": [
      "2010\n",
      "2017\n",
      "2019\n",
      "2018\n",
      "2020\n",
      "2016\n",
      "2011\n",
      "2002\n",
      "2005\n",
      "2004\n",
      "2003\n",
      "2014\n",
      "2013\n",
      "2012\n",
      "2015\n",
      "2008\n",
      "2006\n",
      "2001\n",
      "2007\n",
      "2009\n"
     ]
    }
   ],
   "source": [
    "energies = ['Onshore Wind Turbine','Natural Gas Steam Turbine', 'Conventional Steam Coal', 'Solar Photovoltaic']\n",
    "\n",
    "df_capacity = pd.DataFrame()\n",
    "\n",
    "for year in year_infos:\n",
    "    path, energy_source, capacity = year_infos[year][0],year_infos[year][1], year_infos[year][2]\n",
    "    state, plant_id, month = year_infos[year][3],year_infos[year][4], year_infos[year][5]\n",
    "    print(year)\n",
    "\n",
    "    if year <2008:\n",
    "        continue\n",
    "\n",
    "    elif year<=2010:\n",
    "        df_tool = pd.read_excel(path,header = 0)\n",
    "    \n",
    "    else: \n",
    "        df_tool = pd.read_excel(path,header = 1)\n",
    "    \n",
    "    df_tool = df_tool.rename(columns = {energy_source:'Source_code',capacity:'Capacity_MW',\n",
    "                                       state:'State',plant_id:'Plant_Id',month: 'Month'})\n",
    "    df_tool['Year']=year\n",
    "    df_year = df_tool[['Year','Month','Plant_Id','State','Source_code','Capacity_MW']]\n",
    "    df_capacity = df_capacity.append(df_year, ignore_index=True)"
   ]
  },
  {
   "cell_type": "code",
   "execution_count": 271,
   "id": "f7e8bb40-95f0-44c3-8136-6dc0ee4d3044",
   "metadata": {},
   "outputs": [],
   "source": [
    "df_capacity['Technology'] = df_capacity.Source_code.apply(lambda x: convert_to_technology(x))\n",
    "df_tool_coal = df_capacity.where(df_capacity.Technology=='Coal').dropna()[['Year','Month','Plant_Id','Capacity_MW']]\n",
    "coal_capacity = df_tool.groupby(['Year','Plant_Id','Month']).sum()"
   ]
  },
  {
   "cell_type": "code",
   "execution_count": 274,
   "id": "66770ea4-f669-4921-b23f-05d971df1ef5",
   "metadata": {},
   "outputs": [],
   "source": [
    "df_capacity.to_csv('treated_data/Capacity/capacity_general.csv')"
   ]
  },
  {
   "cell_type": "code",
   "execution_count": 299,
   "id": "d0730d66-895e-4544-a103-f47b792a0282",
   "metadata": {},
   "outputs": [],
   "source": [
    "time_series = pd.date_range(start='12/2008', end='12/2021', freq = 'M')\n",
    "df_tool_ = pd.Series(range(len(time_series)), index = time_series)\n",
    "df_tool = df_tool_.reset_index()\n",
    "\n",
    "df_time = pd.DataFrame()\n",
    "df_time['Year'] = df_tool['index'].apply(lambda x: x.year)\n",
    "df_time['Month'] = df_tool['index'].apply(lambda x: x.month)"
   ]
  },
  {
   "cell_type": "code",
   "execution_count": 301,
   "id": "e21f7570-a0c7-402a-a8d5-603480363be8",
   "metadata": {},
   "outputs": [],
   "source": [
    "df_plants_alltimes = pd.DataFrame()\n",
    "\n",
    "for plant_id in coal_capacity.reset_index().Plant_Id.unique():\n",
    "    df_plant = pd.DataFrame()\n",
    "    df_plant[['Year','Month']] = df_time[['Year','Month']]\n",
    "    df_plant['Plant_Id'] = plant_id\n",
    "    df_plants_alltimes = df_plants_alltimes.append(df_plant)"
   ]
  },
  {
   "cell_type": "code",
   "execution_count": 303,
   "id": "e7018c1a-4a2f-43b6-901b-cbe45a252171",
   "metadata": {},
   "outputs": [],
   "source": [
    "df_final = df_plants_alltimes.join(coal_capacity, on = ['Year','Plant_Id','Month'], how='left')"
   ]
  },
  {
   "cell_type": "code",
   "execution_count": 304,
   "id": "b2d7cdc7-0e4d-4f6c-a733-f84c6ebb8b30",
   "metadata": {},
   "outputs": [
    {
     "name": "stdout",
     "output_type": "stream",
     "text": [
      "df_coal: 10939 alltimes: 108108, result:108108 \n"
     ]
    }
   ],
   "source": [
    "print(f'df_coal: {len(coal_capacity)} alltimes: {len(df_plants_alltimes)}, result:{len(df_final)} ')"
   ]
  },
  {
   "cell_type": "code",
   "execution_count": 305,
   "id": "dcde8b75-ba1f-45d0-ae27-53a75a0dca88",
   "metadata": {},
   "outputs": [],
   "source": [
    "df_interpolated = df_final.interpolate(mehod='linear')"
   ]
  },
  {
   "cell_type": "code",
   "execution_count": 306,
   "id": "8d716e57-0310-4f79-ab37-c2b6c2f037f9",
   "metadata": {},
   "outputs": [],
   "source": [
    "df_interpolated.to_csv('treated_data/Capacity/capacity_coal_interpolated_2008_2021.csv',sep = ';')"
   ]
  },
  {
   "cell_type": "code",
   "execution_count": 308,
   "id": "8d1acda1-982b-4097-b8a8-4e8e3aa20f58",
   "metadata": {},
   "outputs": [
    {
     "data": {
      "text/plain": [
       "array(['Hidroeletric', 'Coal', 'Natural Gas', 'Petroleum Products',\n",
       "       'Nuclear', 'Solar', 'Geothermical', 'Wind',\n",
       "       'Wood and Wood-Delivered Fuels', 'Other', 'Other Biomass',\n",
       "       'Not in the Appendix', 'Other Gases'], dtype=object)"
      ]
     },
     "execution_count": 308,
     "metadata": {},
     "output_type": "execute_result"
    }
   ],
   "source": [
    "df_capacity.Technology.unique()"
   ]
  },
  {
   "cell_type": "code",
   "execution_count": 310,
   "id": "292499a0-cefd-48d5-9167-2cc4211769af",
   "metadata": {},
   "outputs": [],
   "source": [
    "for technology in ['Coal','Natural Gas','Solar','Wind']:\n",
    "    df_tool = df_capacity.where(df_capacity.Technology==technology).dropna()[['Year','Month','Plant_Id','Capacity_MW']]\n",
    "    energy_capacity = df_tool.groupby(['Year','Plant_Id','Month']).sum()\n",
    "    \n",
    "    df_plants_alltimes = pd.DataFrame()\n",
    "\n",
    "    for plant_id in energy_capacity.reset_index().Plant_Id.unique():\n",
    "        df_plant = pd.DataFrame()\n",
    "        df_plant[['Year','Month']] = df_time[['Year','Month']]\n",
    "        df_plant['Plant_Id'] = plant_id\n",
    "        df_plants_alltimes = df_plants_alltimes.append(df_plant)\n",
    "        \n",
    "    df_tool2 = df_plants_alltimes.join(coal_capacity, on = ['Year','Plant_Id','Month'], how='left')\n",
    "    df_interpolated = df_tool2.interpolate(mehod='linear')\n",
    "    df_interpolated.to_csv('treated_data/Capacity/capacity_'+technology.lower()+'_interpolated_2008_2021.csv',sep = ';')"
   ]
  },
  {
   "cell_type": "code",
   "execution_count": null,
   "id": "e7139ac4-5eea-4f74-b39b-a4a04bba2774",
   "metadata": {},
   "outputs": [],
   "source": []
  }
 ],
 "metadata": {
  "kernelspec": {
   "display_name": "Python 3",
   "language": "python",
   "name": "python3"
  },
  "language_info": {
   "codemirror_mode": {
    "name": "ipython",
    "version": 3
   },
   "file_extension": ".py",
   "mimetype": "text/x-python",
   "name": "python",
   "nbconvert_exporter": "python",
   "pygments_lexer": "ipython3",
   "version": "3.8.8"
  }
 },
 "nbformat": 4,
 "nbformat_minor": 5
}
