{
 "cells": [
  {
   "cell_type": "code",
   "execution_count": 1,
   "id": "257e16df",
   "metadata": {},
   "outputs": [],
   "source": [
    "#pip install simpledbf "
   ]
  },
  {
   "cell_type": "code",
   "execution_count": 3,
   "id": "0c88c037",
   "metadata": {},
   "outputs": [],
   "source": [
    "import pandas as pd\n",
    "import os\n",
    "import simpledbf\n",
    "from simpledbf import Dbf5"
   ]
  },
  {
   "cell_type": "markdown",
   "id": "dda89992",
   "metadata": {},
   "source": [
    "# Data treatment Production\n",
    "### Coal, Wind, Solar and Natural Gas"
   ]
  },
  {
   "cell_type": "code",
   "execution_count": 4,
   "id": "e417c3b3",
   "metadata": {},
   "outputs": [],
   "source": [
    "df_energy = pd.read_csv(\"Data/EnergyProduction.csv\", header = 0)\n",
    "\n",
    "def convert_float(string): #problème aperçu quand en train de filtrer pour les renouvelables - il y a d'ans où on a aucune information\n",
    "    if string == \"Not Available\":\n",
    "        return(0)\n",
    "    else:\n",
    "        return(float(string))\n",
    "    \n",
    "df_energy['Year'] = df_energy['YYYYMM'].apply(lambda x: int(str(x)[:4]))\n",
    "df_energy['Month'] = df_energy['YYYYMM'].apply(lambda x: int(str(x)[4:6]))\n",
    "df_energy['Unit'] = 'Gigawatthours'\n",
    "df_energy['Value'] = df_energy['Value'].apply(lambda x: convert_float(x)/1000)"
   ]
  },
  {
   "cell_type": "code",
   "execution_count": 5,
   "id": "7a213d60",
   "metadata": {},
   "outputs": [],
   "source": [
    "# Data treatment Coal, Wind, Solar and Natural Gas\n",
    "\n",
    "energy_index = {'coal':1,'gas':3, 'solar':11, 'wind':12}\n",
    "\n",
    "def regression(annual_value,year):\n",
    "    return(annual_value/12)\n",
    "\n",
    "def df_to_annual(df):\n",
    "    df = df.where(df['Month']==13).dropna()\n",
    "    df.drop(['YYYYMM'], axis = 1, inplace = True)\n",
    "    return(df)\n",
    "\n",
    "def df_to_month(df):\n",
    "    for year in range(1949,1973,1):\n",
    "        for month in range(1,13,1):\n",
    "            i = (year - 1949)*12 + month - 1\n",
    "            if month<10:\n",
    "                yyyymm = int(str(year) + '0' + str(month))\n",
    "            else:\n",
    "                yyyymm = int(str(year) + str(month))\n",
    "            value = df.loc[df['Year']==year]['Value'].values[0]\n",
    "            new_row = pd.DataFrame({'YYYYMM': yyyymm, 'Year': year, 'Month': month, 'Production': regression(value,year), 'Unit':'Gigawatthours'}, index = [i])\n",
    "            df = df.append(new_row, ignore_index = False)\n",
    "    return(df)\n",
    "\n",
    "for energy in energy_index:\n",
    "    df = df_energy.where(df_energy['Column_Order'] == energy_index[energy]).dropna()\n",
    "    df.drop(['Column_Order','Description','MSN'], axis = 1, inplace = True)\n",
    "    df_annual = df_to_annual(df)\n",
    "    df_tool = df_to_month(df)\n",
    "    df_month = df_tool.where(df_tool['Month']!=13).dropna()\n",
    "    file_annual = 'treated_data/' + energy + '_treated.csv'\n",
    "    file_month = 'treated_data/' + energy + '_month_treated.csv'\n",
    "    df_annual.to_csv(file_annual, sep=';', index=True)\n",
    "    df_month.to_csv(file_month, sep=';', index=True)"
   ]
  },
  {
   "cell_type": "markdown",
   "id": "4216ad52",
   "metadata": {},
   "source": [
    "\n",
    "# Data treatment Capacity"
   ]
  },
  {
   "cell_type": "markdown",
   "id": "2039b523",
   "metadata": {},
   "source": [
    "### Création d'un dictionnaire pour qu'on automatise la lecture et création du dataframe"
   ]
  },
  {
   "cell_type": "code",
   "execution_count": 7,
   "id": "d4760f0a",
   "metadata": {},
   "outputs": [],
   "source": [
    "year_infos = {}\n",
    "for folder in os.listdir('Data/Capacity/'):\n",
    "    if folder[:6] != 'eia860': #il y a un documents qui je ne sais pas d'où il vient, mais qui ne nous intêret pas\n",
    "        continue\n",
    "    year = int(folder[-4:])\n",
    "    for file in os.listdir(f'Data/Capacity/{folder}'):\n",
    "        \n",
    "        if year < 2004: #objectif = 2001 ->2003. On doit les traîter separemment puisqu'ils sont un fichier dbf\n",
    "            if file[:3].upper() == 'GEN' and file[-3:]=='dbf': #c'est le fichier desire, mais il est encore en format dbf\n",
    "                    old_path = 'Data/Capacity/'+folder+'/'+file\n",
    "                    dbf = Dbf5(old_path)\n",
    "                    new_path = 'Data/Capacity/'+folder+'/'+file[:-3]+'csv'\n",
    "                    dbf.to_csv(new_path)\n",
    "                    path = new_path\n",
    "                    energy_source = 'ENSOURCE1'\n",
    "                    capacity = 'NAMEPLATE'\n",
    "                    year_infos[year] = [path,energy_source,capacity]\n",
    "\n",
    "        \n",
    "        elif year<= 2012: #il y a eu un changement dans comment les fichiers s'appelent\n",
    "            if file[:3].upper() == 'GEN':\n",
    "                if file[-3:] not in ['xls','lsx']:\n",
    "                    continue # je vais traiter les fichiers .dbf (2001-2003) après\n",
    "                path = 'Data/Capacity/'+folder+'/'+file\n",
    "                energy_source = 'ENERGY_SOURCE_1'\n",
    "                capacity = 'NAMEPLATE'\n",
    "                if year == 2012:\n",
    "                    energy_source = 'Energy Source 1'\n",
    "                    capacity = 'Nameplate Capacity (MW)'\n",
    "                \n",
    "                year_infos[year] = [path,energy_source,capacity]\n",
    "        else:\n",
    "            if file[:4] == '3_1_':\n",
    "                path = 'Data/Capacity/'+folder+'/'+file\n",
    "                energy_source = 'Energy Source 1'\n",
    "                capacity = 'Nameplate Capacity (MW)'\n",
    "                year_infos[year] = [path,energy_source,capacity]"
   ]
  },
  {
   "cell_type": "markdown",
   "id": "8b1221d9",
   "metadata": {},
   "source": [
    "##### Création d'une list avec les codes d'interêt et d'un dictionnaire \n",
    "Le but c'est de s'en servir pour créer une colomne ('Energy Source') à partir de groupby(codes), puisque les fichiers plus ancians n'ont pas une colomne 'Technology'."
   ]
  },
  {
   "cell_type": "code",
   "execution_count": 8,
   "id": "91015d52",
   "metadata": {},
   "outputs": [
    {
     "name": "stdout",
     "output_type": "stream",
     "text": [
      "Onshore Wind Turbine ['WND']\n",
      "Natural Gas Steam Turbine ['NG']\n",
      "Conventional Steam Coal ['BIT' 'LIG' 'SUB' 'RC' 'WC']\n",
      "Solar Photovoltaic ['SUN']\n"
     ]
    }
   ],
   "source": [
    "path_2020, energy_source_2020, capacity_2020= year_infos[2020][0],year_infos[2020][1], year_infos[2020][2]\n",
    "df_2020 = pd.read_excel(path_2020,header = 1)\n",
    "\n",
    "energies = ['Onshore Wind Turbine','Natural Gas Steam Turbine', 'Conventional Steam Coal', 'Solar Photovoltaic']\n",
    "technologies = {}\n",
    "codes = []\n",
    "\n",
    "for technology in df_2020['Technology'].unique():\n",
    "    if technology in energies: \n",
    "        energy_source = df_2020['Energy Source 1'].where(df_2020['Technology']==technology).dropna().unique()\n",
    "        print(technology,energy_source)\n",
    "        technologies[technology] = energy_source\n",
    "        codes.append(energy_source)\n",
    "\n",
    "#print(technologies)\n",
    "#print(codes)"
   ]
  },
  {
   "cell_type": "code",
   "execution_count": 9,
   "id": "c68d2225",
   "metadata": {},
   "outputs": [
    {
     "data": {
      "text/plain": [
       "{'Onshore Wind Turbine': array(['WND'], dtype=object),\n",
       " 'Natural Gas Steam Turbine': array(['NG'], dtype=object),\n",
       " 'Conventional Steam Coal': array(['BIT', 'LIG', 'SUB', 'RC', 'WC'], dtype=object),\n",
       " 'Solar Photovoltaic': array(['SUN'], dtype=object)}"
      ]
     },
     "execution_count": 9,
     "metadata": {},
     "output_type": "execute_result"
    }
   ],
   "source": [
    "technologies"
   ]
  },
  {
   "cell_type": "code",
   "execution_count": 49,
   "id": "63c115be",
   "metadata": {},
   "outputs": [],
   "source": [
    "codes = ['WND','NG','BIT','LIG','SUB','RC','WC','SUN'] #fait en regardant l'output de l'itération dessus"
   ]
  },
  {
   "cell_type": "markdown",
   "id": "38573461",
   "metadata": {},
   "source": [
    "### Lecture automatisé de chaque année"
   ]
  },
  {
   "cell_type": "markdown",
   "id": "25de672b",
   "metadata": {},
   "source": [
    "##### Création d'un fonction pour traîter le type de fichier 2001-2003\n",
    "Il a plusieurs en-tetes (headers) et quelques lignes de \"NAMEPLATE\" ne sont pas en format float"
   ]
  },
  {
   "cell_type": "code",
   "execution_count": 50,
   "id": "c41d223e",
   "metadata": {},
   "outputs": [],
   "source": [
    "def delete_other_headers(df): #dans les dfs plus agés (2001-03), il y avait plus d'un entete (header), et les numéros parfois n'étaient pas tous en format float\n",
    "    df_interest = pd.DataFrame()\n",
    "    df_interest['ENSOURCE1'],df_interest['NAMEPLATE'] = df['ENSOURCE1'],df['NAMEPLATE']\n",
    "    #on doit effacer les lignes qui sont entetes, c-a-d: on trouvera celles où le valuer dans 'NAMEPLATE' \n",
    "    #est aussi 'NAMEPLATE'\n",
    "    index = 0\n",
    "    indexes=[]\n",
    "    for line in df['NAMEPLATE']:\n",
    "        if line == \"NAMEPLATE\":\n",
    "            indexes.append(index)\n",
    "        index+=1\n",
    "    df_interest = df_interest.drop(indexes,axis=0)\n",
    "    df_interest['NAMEPLATE'] = df_interest['NAMEPLATE'].apply(lambda x: float(x))\n",
    "    #On a pu le faire directment puisque toutes les lignes étaient en format '1231.2', s'il avait quelqu'une differente,\n",
    "    #il aurait jeté une exception\n",
    "    return(df_interest)"
   ]
  },
  {
   "cell_type": "code",
   "execution_count": 51,
   "id": "afdf3851",
   "metadata": {
    "scrolled": true
   },
   "outputs": [
    {
     "name": "stderr",
     "output_type": "stream",
     "text": [
      "/opt/anaconda3/lib/python3.8/site-packages/IPython/core/interactiveshell.py:3165: DtypeWarning: Columns (0,1,5,6,7,22,23,24,25,26) have mixed types.Specify dtype option on import or set low_memory=False.\n",
      "  has_raised = await self.run_ast_nodes(code_ast.body, cell_name,\n",
      "/opt/anaconda3/lib/python3.8/site-packages/IPython/core/interactiveshell.py:3165: DtypeWarning: Columns (0,1,5,6,7,17,22,23,24,25,26) have mixed types.Specify dtype option on import or set low_memory=False.\n",
      "  has_raised = await self.run_ast_nodes(code_ast.body, cell_name,\n"
     ]
    }
   ],
   "source": [
    "energies = ['Onshore Wind Turbine','Natural Gas Steam Turbine', 'Conventional Steam Coal', 'Solar Photovoltaic']\n",
    "\n",
    "df_capacity = pd.DataFrame()\n",
    "\n",
    "for year in year_infos:\n",
    "    path, energy_source, capacity = year_infos[year][0],year_infos[year][1], year_infos[year][2]\n",
    "\n",
    "    if year <=2003:\n",
    "        df_tool = pd.read_csv(path,header = 0)\n",
    "        df_year_raw = delete_other_headers(df_tool)\n",
    "\n",
    "    elif year<=2010:\n",
    "        df_year_raw = pd.read_excel(path,header = 0)\n",
    "    \n",
    "    else: \n",
    "        df_year_raw = pd.read_excel(path,header = 1)\n",
    "    \n",
    "    df_year = df_year_raw.groupby(energy_source, as_index = True).sum()[capacity]\n",
    "    \n",
    "    for i in range(len(df_year)):\n",
    "        code = df_year.index[i]\n",
    "        if code in codes:\n",
    "            value = df_year[i]\n",
    "            new_row = pd.DataFrame({'Year': year,'Energy Source': code, 'Capacity': value}, index = [i])\n",
    "            df_capacity = df_capacity.append(new_row, ignore_index = False)"
   ]
  },
  {
   "cell_type": "markdown",
   "id": "576e65a0",
   "metadata": {},
   "source": [
    "#### Column \"Technology\""
   ]
  },
  {
   "cell_type": "code",
   "execution_count": 52,
   "id": "56459198",
   "metadata": {},
   "outputs": [],
   "source": [
    "codes_technologies = {'WND':'Onshore Wind Turbine',\n",
    "                      'NG':'Natural Gas Steam Turbine',\n",
    "                      'SUN':'Solar Photovoltaic'}\n",
    "for code in technologies['Conventional Steam Coal']:\n",
    "    codes_technologies[code]='Conventional Steam Coal'"
   ]
  },
  {
   "cell_type": "code",
   "execution_count": 53,
   "id": "0200f1e6",
   "metadata": {},
   "outputs": [],
   "source": [
    "df_capacity['Technology'] = df_capacity['Energy Source'].apply(lambda x: codes_technologies[x])"
   ]
  },
  {
   "cell_type": "markdown",
   "id": "850e04ae",
   "metadata": {},
   "source": [
    "#### Création d'un csv sans l'especification du type d'energie"
   ]
  },
  {
   "cell_type": "code",
   "execution_count": 55,
   "id": "522ed9df",
   "metadata": {},
   "outputs": [],
   "source": [
    "df_tool = df_capacity.groupby(['Year','Technology']).sum()\n",
    "df_capacity_general = pd.DataFrame()\n",
    "\n",
    "for i in range(len(df_tool)): # ici on utilise le range normal, 0 -> 2021-1973, puisque les ans presents dans df_renewable_month sont les indexes\n",
    "        year = df_tool.iloc[i].name[0]\n",
    "        technology = df_tool.iloc[i].name[1]\n",
    "        capacity = df_tool.iloc[i]['Capacity']\n",
    "        new_row = pd.DataFrame({'Year': year, 'Technology': technology, 'Capacity': capacity}, index = [i])\n",
    "        df_capacity_general=df_capacity_general.append(new_row, ignore_index = False)"
   ]
  },
  {
   "cell_type": "markdown",
   "id": "ef20ba34",
   "metadata": {},
   "source": [
    "#### Saving to csv"
   ]
  },
  {
   "cell_type": "code",
   "execution_count": 57,
   "id": "ff3bb8c5",
   "metadata": {},
   "outputs": [],
   "source": [
    "df_capacity.to_csv('treated_data/capacity.csv', sep=';', index=True)\n",
    "df_capacity_general.to_csv('treated_data/capacity_general.csv')"
   ]
  },
  {
   "cell_type": "code",
   "execution_count": 30,
   "id": "d7c36161",
   "metadata": {},
   "outputs": [],
   "source": [
    "df_capacity = pd.read_csv('treated_data/Capacity/capacity.csv',sep=';').drop('Unnamed: 0', axis=1)"
   ]
  },
  {
   "cell_type": "markdown",
   "id": "3794e5bd",
   "metadata": {},
   "source": [
    "# Merge Production & Capacity on Year \n",
    "#### Il manque encore (1) comprendre quelle est l'unité de capacity (2) capacity factor (je ne peux pas trouver\n",
    "#### quelque chose qui dit la durée max dans les excels."
   ]
  },
  {
   "cell_type": "code",
   "execution_count": 20,
   "id": "f3d6c80b",
   "metadata": {},
   "outputs": [],
   "source": [
    "energy_infos = {'solar':['treated_data/Production/solar_treated.csv','Solar Photovoltaic'],\n",
    "                      'wind':['treated_data/Production/wind_treated.csv','Onshore Wind Turbine'],\n",
    "                      'coal':['treated_data/Production/coal_treated.csv','Conventional Steam Coal'],\n",
    "                     'gas':['treated_data/Production/gas_treated.csv','Natural Gas Steam Turbine']}"
   ]
  },
  {
   "cell_type": "code",
   "execution_count": 39,
   "id": "92c5b4ee",
   "metadata": {},
   "outputs": [],
   "source": [
    "for energy in energy_infos:\n",
    "    df_production = pd.read_csv(energy_infos[energy][0],sep = ';').drop('Unnamed: 0', axis=1)\n",
    "    df_production = df_production.where(df_production['Year']>2000).dropna()\n",
    "    df_capacity = pd.read_csv('treated_data/Capacity/capacity_general.csv').drop('Unnamed: 0', axis=1)\n",
    "    df_capacity = df_capacity.where(df_capacity['Technology']==energy_infos[energy][1]).dropna()\n",
    "    df_energy = pd.merge (df_production, df_capacity, on= 'Year')\n",
    "    df_energy['Ratio'] = df_energy['Value']/df_energy['Capacity']\n",
    "    path = 'treated_data/Energies/' + energy + '_treated.csv'\n",
    "    df_energy.to_csv(path, sep = ';')"
   ]
  }
 ],
 "metadata": {
  "kernelspec": {
   "display_name": "Python 3",
   "language": "python",
   "name": "python3"
  },
  "language_info": {
   "codemirror_mode": {
    "name": "ipython",
    "version": 3
   },
   "file_extension": ".py",
   "mimetype": "text/x-python",
   "name": "python",
   "nbconvert_exporter": "python",
   "pygments_lexer": "ipython3",
   "version": "3.8.8"
  }
 },
 "nbformat": 4,
 "nbformat_minor": 5
}
