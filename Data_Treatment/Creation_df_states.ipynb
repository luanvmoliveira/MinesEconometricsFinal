{
 "cells": [
  {
   "cell_type": "code",
   "execution_count": 1,
   "id": "ca3a5b4c-54bf-49fa-926d-da792ebedea0",
   "metadata": {},
   "outputs": [],
   "source": [
    "import pandas as pd"
   ]
  },
  {
   "cell_type": "code",
   "execution_count": 12,
   "id": "9a349f93-3f9c-4403-b33d-cc731d4c82c7",
   "metadata": {},
   "outputs": [],
   "source": [
    "%run variables_functions.ipynb"
   ]
  },
  {
   "cell_type": "code",
   "execution_count": 6,
   "id": "a07516a1-0592-49b1-8b46-a831a48d3c39",
   "metadata": {
    "jupyter": {
     "source_hidden": true
    },
    "tags": []
   },
   "outputs": [],
   "source": [
    "txt = '''Wisconsin, USA\t44.500000\t-89.500000\n",
    "West Virginia, USA\t39.000000\t-80.500000\n",
    "Vermont, the USA\t44.000000\t-72.699997\n",
    "Texas, the USA\t31.000000\t-100.000000\n",
    "South Dakota, the US\t44.500000\t-100.000000\n",
    "Rhode Island, the US\t41.700001\t-71.500000\n",
    "Oregon, the US\t44.000000\t-120.500000\n",
    "New York, USA\t43.000000\t-75.000000\n",
    "New Hampshire, the US\t44.000000\t-71.500000\n",
    "Nebraska, the US\t41.500000\t-100.000000\n",
    "Kansas, the US\t38.500000\t-98.000000\n",
    "Mississippi, the US\t33.000000\t-90.000000\n",
    "Illinois, USA\t40.000000\t-89.000000\n",
    "Delaware, the US\t39.000000\t-75.500000\n",
    "Connecticut, the US\t41.599998\t-72.699997\n",
    "Arkansas, the US\t34.799999\t-92.199997\n",
    "Indiana, USA\t40.273502\t-86.126976\n",
    "Missouri, USA\t38.573936\t-92.603760\n",
    "Florida, USA\t27.994402\t-81.760254\n",
    "Nevada, USA\t39.876019\t-117.224121\n",
    "Maine, the USA\t45.367584\t-68.972168\n",
    "Michigan, USA\t44.182205\t-84.506836\n",
    "Georgia, the USA\t33.247875\t-83.441162\n",
    "Hawaii, USA\t19.741755\t-155.844437\n",
    "Alaska, USA\t66.160507\t-153.369141\n",
    "Tennessee, USA\t35.860119\t-86.660156\n",
    "Virginia, USA\t37.926868\t-78.024902\n",
    "New Jersey, USA\t39.833851\t-74.871826\n",
    "Kentucky, USA\t37.839333\t-84.270020\n",
    "North Dakota, USA\t47.650589\t-100.437012\n",
    "Minnesota, USA\t46.392410\t-94.636230\n",
    "Oklahoma, the USA\t36.084621\t-96.921387\n",
    "Montana, USA\t46.965260\t-109.533691\n",
    "Washington, the USA\t47.751076\t-120.740135\n",
    "Utah, USA\t39.419220\t-111.950684\n",
    "Colorado, USA\t39.113014\t-105.358887\n",
    "Ohio, USA\t40.367474\t-82.996216\n",
    "Alabama, USA\t32.318230\t-86.902298\n",
    "Iowa, the USA\t42.032974\t-93.581543\n",
    "New Mexico, USA\t34.307144\t-106.018066\n",
    "South Carolina, USA\t33.836082\t-81.163727\n",
    "Pennsylvania, USA\t41.203323\t-77.194527\n",
    "Arizona, USA\t34.048927\t-111.093735\n",
    "Maryland, USA\t39.045753\t-76.641273\n",
    "Massachusetts, USA\t42.407211\t-71.382439\n",
    "California, the USA\t36.778259\t-119.417931\n",
    "Idaho, USA\t44.068203\t-114.742043\n",
    "Wyoming, USA\t43.075970\t-107.290283\n",
    "North Carolina, USA\t35.782169\t-80.793457\n",
    "Louisiana, USA\t30.391830\t-92.329102'''"
   ]
  },
  {
   "cell_type": "code",
   "execution_count": 9,
   "id": "2d146ef5-f4cb-4cab-a8fb-6467798b8819",
   "metadata": {},
   "outputs": [],
   "source": [
    "df_state_loc = pd.DataFrame()\n",
    "for line in txt.split('\\n'):\n",
    "    i=0\n",
    "    abbrev = us_state_to_abbrev[line.split(',')[0]]\n",
    "    long = line.split('\\t')[-1] \n",
    "    lat = line.split('\\t')[-2]\n",
    "    new_row = pd.DataFrame({'State': abbrev, 'latitude':lat, 'longitude':long}, index =[i])\n",
    "    df_state_loc = df_state_loc.append(new_row, ignore_index = False)\n",
    "    i+=1\n",
    "    \n",
    "df_state_loc = df_state_loc.reset_index().drop('index',axis=1)"
   ]
  },
  {
   "cell_type": "code",
   "execution_count": 11,
   "id": "20ed2a59-7732-4267-93a9-87f2b0e353e1",
   "metadata": {},
   "outputs": [],
   "source": [
    "df_state_loc.to_csv('treated_data/States/states_loc.csv',sep=';')"
   ]
  }
 ],
 "metadata": {
  "kernelspec": {
   "display_name": "Python 3",
   "language": "python",
   "name": "python3"
  },
  "language_info": {
   "codemirror_mode": {
    "name": "ipython",
    "version": 3
   },
   "file_extension": ".py",
   "mimetype": "text/x-python",
   "name": "python",
   "nbconvert_exporter": "python",
   "pygments_lexer": "ipython3",
   "version": "3.8.8"
  }
 },
 "nbformat": 4,
 "nbformat_minor": 5
}
