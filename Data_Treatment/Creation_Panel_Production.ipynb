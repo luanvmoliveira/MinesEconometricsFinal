{
 "cells": [
  {
   "cell_type": "code",
   "execution_count": 3,
   "id": "1640f01d",
   "metadata": {},
   "outputs": [],
   "source": [
    "import pandas as pd"
   ]
  },
  {
   "cell_type": "markdown",
   "id": "4276963c",
   "metadata": {},
   "source": [
    "### Objective:"
   ]
  },
  {
   "cell_type": "markdown",
   "id": "337fcac0",
   "metadata": {},
   "source": [
    "  | Year | Plant_ID | State | Technologies (Mover, Fuel, Desc) | Production | Demand | Wind Production | Solar Production | (USD)CO2 | (USD)Gas | (USD)coal | "
   ]
  },
  {
   "cell_type": "markdown",
   "id": "6f590dc2",
   "metadata": {},
   "source": [
    "## Colonnes Year, Month, Plant_ID, Capacity (MW), Technology et State"
   ]
  },
  {
   "cell_type": "code",
   "execution_count": 12,
   "id": "8d6576a1-47e4-43d8-85b0-df3c417553fb",
   "metadata": {},
   "outputs": [],
   "source": [
    "coal_production = pd.read_csv('treated_data/Production/Coal_Production.csv',sep = ';').drop('Unnamed: 0', axis = 1)"
   ]
  },
  {
   "cell_type": "code",
   "execution_count": 13,
   "id": "ba87ea40-1cca-447e-9fda-1d3272a61608",
   "metadata": {},
   "outputs": [],
   "source": [
    "coal_production = coal_production.drop('Technology',axis=1)[['Year','Month','Plant_Id','State', \n",
    "                                                            'Mover_Code','Fuel_Code','Production(GWh)']]"
   ]
  },
  {
   "cell_type": "markdown",
   "id": "179c59f1-891c-4d88-8f59-1450281217c9",
   "metadata": {},
   "source": [
    "## Création colonne Demand"
   ]
  },
  {
   "cell_type": "code",
   "execution_count": 14,
   "id": "7e932df3-a4d8-42f8-b6ae-d234cdee31a8",
   "metadata": {},
   "outputs": [
    {
     "data": {
      "text/plain": [
       "array([2021., 2006., 2007., 2010., 2017., 2016., 2020., 2011., 2013.,\n",
       "       2012., 2019., 2015., 2009., 2008., 2014., 2018.])"
      ]
     },
     "execution_count": 14,
     "metadata": {},
     "output_type": "execute_result"
    }
   ],
   "source": [
    "coal_production.Year.unique()"
   ]
  },
  {
   "cell_type": "code",
   "execution_count": 16,
   "id": "2d49f935-aa60-4ad0-9326-6d85f0b32541",
   "metadata": {},
   "outputs": [],
   "source": [
    "df_demand = pd.read_csv('treated_data/Demand/demand.csv', sep = ';').drop('Unnamed: 0',axis = 1).set_index(['Year','Month'])"
   ]
  },
  {
   "cell_type": "code",
   "execution_count": 17,
   "id": "66eb2c18-d664-4212-a6eb-06227fd8a981",
   "metadata": {},
   "outputs": [],
   "source": [
    "panel_i = coal_production.join(df_demand, on=['Year','Month'], how = 'left')"
   ]
  },
  {
   "cell_type": "markdown",
   "id": "3f455a9e",
   "metadata": {},
   "source": [
    "## Création colonnes Wind Production & Solar Production"
   ]
  },
  {
   "cell_type": "code",
   "execution_count": 18,
   "id": "26f63d5e-161b-4e05-b978-637537a7d8b4",
   "metadata": {},
   "outputs": [],
   "source": [
    "df_production = pd.read_csv('treated_data/Production/production_complete.csv',sep=';').drop('Unnamed: 0',axis = 1)"
   ]
  },
  {
   "cell_type": "code",
   "execution_count": 19,
   "id": "4dca3361-b156-4abd-8df7-aca729af9098",
   "metadata": {},
   "outputs": [],
   "source": [
    "df_wind = df_production.where(df_production.Technology == 'Wind').dropna()\n",
    "df_wind['Wind_Production']=df_wind['Production(GWh)']\n",
    "df_wind = df_wind.drop(['Production(GWh)','Mover_Code','Fuel_Code','Technology','Plant_Id'],axis=1)\n",
    "\n",
    "df_solar = df_production.where(df_production.Technology =='Solar').dropna()\n",
    "df_solar['Solar_Production']=df_solar['Production(GWh)']\n",
    "df_solar = df_solar.drop(['Production(GWh)','Mover_Code','Fuel_Code','Technology','Plant_Id'],axis=1)"
   ]
  },
  {
   "cell_type": "code",
   "execution_count": 20,
   "id": "fce68c47-84e7-4a3d-9df1-755cddb818c9",
   "metadata": {},
   "outputs": [],
   "source": [
    "df_wind_join= df_wind.groupby(['Year','Month','State']).sum()\n",
    "df_solar_join = df_solar.groupby(['Year','Month','State']).sum()"
   ]
  },
  {
   "cell_type": "code",
   "execution_count": 21,
   "id": "d899e9fb-c6c7-4522-9929-280dc769ab76",
   "metadata": {},
   "outputs": [],
   "source": [
    "panel_ii_ = panel_i.join(df_wind_join, on=['Year','Month','State'], how = 'left')"
   ]
  },
  {
   "cell_type": "code",
   "execution_count": 22,
   "id": "76a1b96e-ab6b-48f3-9a21-a8e0a4deeb91",
   "metadata": {},
   "outputs": [],
   "source": [
    "panel_ii = panel_ii_.join(df_solar_join, on=['Year','Month','State'], how = 'left')"
   ]
  },
  {
   "cell_type": "code",
   "execution_count": 23,
   "id": "ff4c4786-4f49-43ad-ae5b-2fdc6ca65ece",
   "metadata": {},
   "outputs": [],
   "source": [
    "panel_ii.Wind_Production = panel_ii.Wind_Production.fillna(0)\n",
    "panel_ii.Solar_Production = panel_ii.Solar_Production.fillna(0)"
   ]
  },
  {
   "cell_type": "code",
   "execution_count": 24,
   "id": "b4bced5e-6c7a-4107-8cff-aae06e3ce061",
   "metadata": {},
   "outputs": [],
   "source": [
    "panel_ii.to_csv('treated_data/Panel/panel_ii.csv',sep=';')"
   ]
  },
  {
   "cell_type": "markdown",
   "id": "936d71dc",
   "metadata": {},
   "source": [
    "## Création colonnes of prices"
   ]
  },
  {
   "cell_type": "code",
   "execution_count": 6,
   "id": "d81185b0-4303-4a4e-871b-888930733c97",
   "metadata": {},
   "outputs": [],
   "source": [
    "panel_ii = pd.read_csv('treated_data/Panel/panel_ii.csv',sep=';').drop('Unnamed: 0',axis=1)"
   ]
  }
 ],
 "metadata": {
  "kernelspec": {
   "display_name": "Python 3",
   "language": "python",
   "name": "python3"
  },
  "language_info": {
   "codemirror_mode": {
    "name": "ipython",
    "version": 3
   },
   "file_extension": ".py",
   "mimetype": "text/x-python",
   "name": "python",
   "nbconvert_exporter": "python",
   "pygments_lexer": "ipython3",
   "version": "3.8.8"
  }
 },
 "nbformat": 4,
 "nbformat_minor": 5
}
